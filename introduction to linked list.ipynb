{
 "cells": [
  {
   "cell_type": "markdown",
   "id": "ce2fcfb6-7a9e-4181-981b-f36d59809412",
   "metadata": {},
   "source": [
    "# Data  types"
   ]
  },
  {
   "cell_type": "markdown",
   "id": "6f6d8c05-8f68-4567-b30c-e6948171c5fd",
   "metadata": {},
   "source": [
    "# list data structures"
   ]
  },
  {
   "cell_type": "code",
   "execution_count": 7,
   "id": "9d8066d9-0c9e-4f87-bbbd-0302ee375ef9",
   "metadata": {},
   "outputs": [
    {
     "data": {
      "text/plain": [
       "list"
      ]
     },
     "execution_count": 7,
     "metadata": {},
     "output_type": "execute_result"
    }
   ],
   "source": [
    "l=[]\n",
    "l\n",
    "type(l)"
   ]
  },
  {
   "cell_type": "code",
   "execution_count": 9,
   "id": "d2a0d39c-d2fb-4b1e-990d-89fc8e0afd34",
   "metadata": {},
   "outputs": [
    {
     "ename": "TypeError",
     "evalue": "len() takes exactly one argument (0 given)",
     "output_type": "error",
     "traceback": [
      "\u001b[1;31m---------------------------------------------------------------------------\u001b[0m",
      "\u001b[1;31mTypeError\u001b[0m                                 Traceback (most recent call last)",
      "Cell \u001b[1;32mIn[9], line 1\u001b[0m\n\u001b[1;32m----> 1\u001b[0m \u001b[38;5;28mlen\u001b[39m()\n",
      "\u001b[1;31mTypeError\u001b[0m: len() takes exactly one argument (0 given)"
     ]
    }
   ],
   "source": [
    "len()"
   ]
  },
  {
   "cell_type": "code",
   "execution_count": 11,
   "id": "5859c354-afd6-451d-8447-6077bc5295b2",
   "metadata": {},
   "outputs": [
    {
     "data": {
      "text/plain": [
       "0"
      ]
     },
     "execution_count": 11,
     "metadata": {},
     "output_type": "execute_result"
    }
   ],
   "source": [
    "len(l)"
   ]
  },
  {
   "cell_type": "code",
   "execution_count": 14,
   "id": "31ec1439-4696-4376-ab07-e9b4fda3bcaf",
   "metadata": {},
   "outputs": [],
   "source": [
    "l.append(10)"
   ]
  },
  {
   "cell_type": "code",
   "execution_count": 16,
   "id": "22db7d41-f484-4ef7-8f2e-af2561baa861",
   "metadata": {},
   "outputs": [
    {
     "data": {
      "text/plain": [
       "[10]"
      ]
     },
     "execution_count": 16,
     "metadata": {},
     "output_type": "execute_result"
    }
   ],
   "source": [
    "l"
   ]
  },
  {
   "cell_type": "code",
   "execution_count": 18,
   "id": "ceaf46a5-5ac4-4922-89a1-f00e49e42604",
   "metadata": {},
   "outputs": [
    {
     "data": {
      "text/plain": [
       "1"
      ]
     },
     "execution_count": 18,
     "metadata": {},
     "output_type": "execute_result"
    }
   ],
   "source": [
    "len(l)"
   ]
  },
  {
   "cell_type": "code",
   "execution_count": 20,
   "id": "4c0a985a-c9db-4112-a2b9-789155871b25",
   "metadata": {},
   "outputs": [
    {
     "ename": "TypeError",
     "evalue": "list.append() takes exactly one argument (4 given)",
     "output_type": "error",
     "traceback": [
      "\u001b[1;31m---------------------------------------------------------------------------\u001b[0m",
      "\u001b[1;31mTypeError\u001b[0m                                 Traceback (most recent call last)",
      "Cell \u001b[1;32mIn[20], line 1\u001b[0m\n\u001b[1;32m----> 1\u001b[0m l\u001b[38;5;241m.\u001b[39mappend(\u001b[38;5;241m10\u001b[39m,\u001b[38;5;241m20\u001b[39m,\u001b[38;5;241m30\u001b[39m,\u001b[38;5;241m40\u001b[39m)\n",
      "\u001b[1;31mTypeError\u001b[0m: list.append() takes exactly one argument (4 given)"
     ]
    }
   ],
   "source": [
    "l.append(10,20,30,40)"
   ]
  },
  {
   "cell_type": "code",
   "execution_count": 22,
   "id": "09ac10fb-a0e8-432a-9550-d78c37de5d35",
   "metadata": {},
   "outputs": [],
   "source": [
    "l.append(10)\n",
    "l.append(20)\n",
    "l.append(30)\n",
    "l.append(40)"
   ]
  },
  {
   "cell_type": "code",
   "execution_count": 24,
   "id": "2fd8dc94-7ea3-4783-a31b-236f803a329e",
   "metadata": {},
   "outputs": [
    {
     "data": {
      "text/plain": [
       "[10, 10, 20, 30, 40]"
      ]
     },
     "execution_count": 24,
     "metadata": {},
     "output_type": "execute_result"
    }
   ],
   "source": [
    "l"
   ]
  },
  {
   "cell_type": "code",
   "execution_count": 26,
   "id": "d8040f3a-e877-46c0-8056-4031b2a173a8",
   "metadata": {},
   "outputs": [
    {
     "data": {
      "text/plain": [
       "5"
      ]
     },
     "execution_count": 26,
     "metadata": {},
     "output_type": "execute_result"
    }
   ],
   "source": [
    "len(l)"
   ]
  },
  {
   "cell_type": "code",
   "execution_count": 28,
   "id": "a05913b1-45c1-4aad-82d6-b7d5844cb512",
   "metadata": {},
   "outputs": [],
   "source": [
    "l1=[]\n"
   ]
  },
  {
   "cell_type": "code",
   "execution_count": 30,
   "id": "d43c2a60-07fb-4580-a208-ba28d80386c2",
   "metadata": {},
   "outputs": [],
   "source": [
    "l1.append(70)\n",
    "l1.append(2.3)\n",
    "l1.append(True)\n",
    "l1.append('1+2j')\n",
    "l1.append([1,2,3])"
   ]
  },
  {
   "cell_type": "code",
   "execution_count": 32,
   "id": "027f4eca-3c9f-4b2c-838a-02197b9bfc86",
   "metadata": {},
   "outputs": [
    {
     "data": {
      "text/plain": [
       "[70, 2.3, True, '1+2j', [1, 2, 3]]"
      ]
     },
     "execution_count": 32,
     "metadata": {},
     "output_type": "execute_result"
    }
   ],
   "source": [
    "l1"
   ]
  },
  {
   "cell_type": "code",
   "execution_count": 34,
   "id": "37d2a041-bbed-4077-9869-236d406d93c8",
   "metadata": {},
   "outputs": [
    {
     "name": "stdout",
     "output_type": "stream",
     "text": [
      "[10, 10, 20, 30, 40]\n",
      "[70, 2.3, True, '1+2j', [1, 2, 3]]\n"
     ]
    }
   ],
   "source": [
    "print(l)\n",
    "print(l1)"
   ]
  },
  {
   "cell_type": "code",
   "execution_count": 36,
   "id": "f7b99023-1066-4245-b1e1-61cc3d8d3a67",
   "metadata": {},
   "outputs": [
    {
     "name": "stdout",
     "output_type": "stream",
     "text": [
      "2111120813248\n",
      "2111152752512\n"
     ]
    }
   ],
   "source": [
    "print(id(l))\n",
    "print(id(l1))"
   ]
  },
  {
   "cell_type": "code",
   "execution_count": 38,
   "id": "a7e2416b-5995-48be-92e6-9edc4ad0d20f",
   "metadata": {},
   "outputs": [
    {
     "name": "stdout",
     "output_type": "stream",
     "text": [
      "5\n",
      "5\n"
     ]
    }
   ],
   "source": [
    "print(len(l))\n",
    "print(len(l1))"
   ]
  },
  {
   "cell_type": "code",
   "execution_count": 40,
   "id": "69f58dca-7dac-413a-828b-ea24bd79e862",
   "metadata": {},
   "outputs": [
    {
     "data": {
      "text/plain": [
       "[70, 2.3, True, '1+2j', [1, 2, 3]]"
      ]
     },
     "execution_count": 40,
     "metadata": {},
     "output_type": "execute_result"
    }
   ],
   "source": [
    "l1"
   ]
  },
  {
   "cell_type": "code",
   "execution_count": 42,
   "id": "56cd9953-cd72-4684-a9e0-8c57fc3ab636",
   "metadata": {},
   "outputs": [],
   "source": [
    "l2=l1.copy()"
   ]
  },
  {
   "cell_type": "code",
   "execution_count": 44,
   "id": "08a582dc-2584-488e-a04f-3d9151a9e61e",
   "metadata": {},
   "outputs": [
    {
     "data": {
      "text/plain": [
       "[70, 2.3, True, '1+2j', [1, 2, 3]]"
      ]
     },
     "execution_count": 44,
     "metadata": {},
     "output_type": "execute_result"
    }
   ],
   "source": [
    "l2"
   ]
  },
  {
   "cell_type": "code",
   "execution_count": 46,
   "id": "d5b3f537-e72f-4adc-b646-3d5883cdb577",
   "metadata": {},
   "outputs": [
    {
     "data": {
      "text/plain": [
       "True"
      ]
     },
     "execution_count": 46,
     "metadata": {},
     "output_type": "execute_result"
    }
   ],
   "source": [
    "l1==l2"
   ]
  },
  {
   "cell_type": "code",
   "execution_count": 48,
   "id": "5b2d4a1b-072b-402e-8af5-cd1dfba1a25a",
   "metadata": {},
   "outputs": [
    {
     "data": {
      "text/plain": [
       "False"
      ]
     },
     "execution_count": 48,
     "metadata": {},
     "output_type": "execute_result"
    }
   ],
   "source": [
    "id(l1)==id(l2)"
   ]
  },
  {
   "cell_type": "code",
   "execution_count": 52,
   "id": "8fbbc233-8160-4c68-bbdc-83e63198806d",
   "metadata": {},
   "outputs": [
    {
     "data": {
      "text/plain": [
       "[20, 30, 40]"
      ]
     },
     "execution_count": 52,
     "metadata": {},
     "output_type": "execute_result"
    }
   ],
   "source": [
    "l.remove(10)\n",
    "l"
   ]
  },
  {
   "cell_type": "markdown",
   "id": "fbe869b8-dbaa-486f-b7d4-d63dba562f51",
   "metadata": {},
   "source": [
    "# string indexing "
   ]
  },
  {
   "cell_type": "code",
   "execution_count": 60,
   "id": "fe435b2d-645b-454a-afb1-13488e26dc56",
   "metadata": {},
   "outputs": [],
   "source": [
    "s7=\"krishna\""
   ]
  },
  {
   "cell_type": "code",
   "execution_count": 62,
   "id": "7eed7711-f91c-400c-b0b0-55e987c36950",
   "metadata": {},
   "outputs": [
    {
     "data": {
      "text/plain": [
       "'krishna'"
      ]
     },
     "execution_count": 62,
     "metadata": {},
     "output_type": "execute_result"
    }
   ],
   "source": [
    "s7"
   ]
  },
  {
   "cell_type": "code",
   "execution_count": 64,
   "id": "3223339c-8805-4d79-aab7-1eaf6a0b9b39",
   "metadata": {},
   "outputs": [
    {
     "data": {
      "text/plain": [
       "'r'"
      ]
     },
     "execution_count": 64,
     "metadata": {},
     "output_type": "execute_result"
    }
   ],
   "source": [
    "s7[1]"
   ]
  },
  {
   "cell_type": "code",
   "execution_count": 66,
   "id": "3c75b401-85f9-4a29-aaa7-1515a6bba33b",
   "metadata": {},
   "outputs": [
    {
     "data": {
      "text/plain": [
       "'n'"
      ]
     },
     "execution_count": 66,
     "metadata": {},
     "output_type": "execute_result"
    }
   ],
   "source": [
    "s7[5]"
   ]
  },
  {
   "cell_type": "code",
   "execution_count": 68,
   "id": "76f85961-ebb3-4f09-98bd-cd7e6322e869",
   "metadata": {},
   "outputs": [
    {
     "ename": "IndexError",
     "evalue": "string index out of range",
     "output_type": "error",
     "traceback": [
      "\u001b[1;31m---------------------------------------------------------------------------\u001b[0m",
      "\u001b[1;31mIndexError\u001b[0m                                Traceback (most recent call last)",
      "Cell \u001b[1;32mIn[68], line 1\u001b[0m\n\u001b[1;32m----> 1\u001b[0m s7[\u001b[38;5;241m10\u001b[39m]\n",
      "\u001b[1;31mIndexError\u001b[0m: string index out of range"
     ]
    }
   ],
   "source": [
    "s7[10]"
   ]
  },
  {
   "cell_type": "code",
   "execution_count": 70,
   "id": "38dd14ce-69b1-411f-b8ac-0805894ee1d4",
   "metadata": {},
   "outputs": [
    {
     "name": "stdout",
     "output_type": "stream",
     "text": [
      "k\n",
      "r\n",
      "i\n",
      "s\n",
      "h\n",
      "n\n",
      "a\n"
     ]
    }
   ],
   "source": [
    "for i in s7:\n",
    "    print(i)"
   ]
  },
  {
   "cell_type": "markdown",
   "id": "d3f96596-a435-4779-bdf6-e4a30def709a",
   "metadata": {},
   "source": [
    "# slicing [:]\n",
    "# three part\n",
    "# 1.forward ex:- [2,7]\n",
    "# 2.backward ex:- [-5:-1]\n",
    "# 3.step slicing ex:-[::2]"
   ]
  },
  {
   "cell_type": "code",
   "execution_count": 72,
   "id": "cfe65bfc-3c2f-4d0d-ad7c-2b7e745fb516",
   "metadata": {},
   "outputs": [],
   "source": [
    "s8='abcdefghi'"
   ]
  },
  {
   "cell_type": "code",
   "execution_count": 74,
   "id": "b6755db2-b2bf-4d72-bec5-55d1ecce0146",
   "metadata": {},
   "outputs": [
    {
     "data": {
      "text/plain": [
       "'abcdefghi'"
      ]
     },
     "execution_count": 74,
     "metadata": {},
     "output_type": "execute_result"
    }
   ],
   "source": [
    "s8[0:9]"
   ]
  },
  {
   "cell_type": "code",
   "execution_count": 76,
   "id": "1fca73e9-8ca1-4081-9576-8c72eb8a9309",
   "metadata": {},
   "outputs": [
    {
     "data": {
      "text/plain": [
       "'bcdef'"
      ]
     },
     "execution_count": 76,
     "metadata": {},
     "output_type": "execute_result"
    }
   ],
   "source": [
    "s8[1:-3]"
   ]
  },
  {
   "cell_type": "code",
   "execution_count": 78,
   "id": "b42aefbb-9b0e-4301-8900-b3b89030a75a",
   "metadata": {},
   "outputs": [
    {
     "data": {
      "text/plain": [
       "'bcde'"
      ]
     },
     "execution_count": 78,
     "metadata": {},
     "output_type": "execute_result"
    }
   ],
   "source": [
    "s8[1:-4]"
   ]
  },
  {
   "cell_type": "code",
   "execution_count": 80,
   "id": "6037a143-8f2e-4b96-aa08-0174ebadb76e",
   "metadata": {},
   "outputs": [
    {
     "data": {
      "text/plain": [
       "[1, 2, 3, 4, 5, 6, 7, 8, 9, 10]"
      ]
     },
     "execution_count": 80,
     "metadata": {},
     "output_type": "execute_result"
    }
   ],
   "source": [
    "step_indexing=[1,2,3,4,5,6,7,8,9,10]\n",
    "step_indexing"
   ]
  },
  {
   "cell_type": "code",
   "execution_count": 86,
   "id": "9c67353c-92a6-4ed8-acfd-e9ab217a94ca",
   "metadata": {},
   "outputs": [
    {
     "data": {
      "text/plain": [
       "[1, 5, 9]"
      ]
     },
     "execution_count": 86,
     "metadata": {},
     "output_type": "execute_result"
    }
   ],
   "source": [
    "step_indexing[0:10:4]"
   ]
  },
  {
   "cell_type": "code",
   "execution_count": 88,
   "id": "174aea8d-4af6-4202-aa36-edc4eaee3e3c",
   "metadata": {},
   "outputs": [
    {
     "data": {
      "text/plain": [
       "[1, 6]"
      ]
     },
     "execution_count": 88,
     "metadata": {},
     "output_type": "execute_result"
    }
   ],
   "source": [
    "step_indexing[0:10:5]"
   ]
  },
  {
   "cell_type": "code",
   "execution_count": null,
   "id": "0581bc21-57f2-458c-be1d-5e4b420b4d9c",
   "metadata": {},
   "outputs": [],
   "source": []
  },
  {
   "cell_type": "code",
   "execution_count": null,
   "id": "31cad14a-d9d0-469a-97a3-5dfaf32efdbe",
   "metadata": {},
   "outputs": [],
   "source": []
  },
  {
   "cell_type": "markdown",
   "id": "2550661f-e954-4c28-8ec0-f38567f22371",
   "metadata": {},
   "source": [
    "# list indexing and slicing"
   ]
  },
  {
   "cell_type": "code",
   "execution_count": null,
   "id": "4622196d-3a44-4693-af06-8bb698de62ef",
   "metadata": {},
   "outputs": [],
   "source": []
  }
 ],
 "metadata": {
  "kernelspec": {
   "display_name": "Python 3 (ipykernel)",
   "language": "python",
   "name": "python3"
  },
  "language_info": {
   "codemirror_mode": {
    "name": "ipython",
    "version": 3
   },
   "file_extension": ".py",
   "mimetype": "text/x-python",
   "name": "python",
   "nbconvert_exporter": "python",
   "pygments_lexer": "ipython3",
   "version": "3.12.7"
  }
 },
 "nbformat": 4,
 "nbformat_minor": 5
}
